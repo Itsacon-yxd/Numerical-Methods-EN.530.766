{
 "cells": [
  {
   "cell_type": "code",
   "execution_count": 6,
   "id": "abc965ae",
   "metadata": {},
   "outputs": [],
   "source": [
    "import numpy as np\n",
    "from copy import deepcopy"
   ]
  },
  {
   "cell_type": "code",
   "execution_count": 7,
   "id": "379fd24a",
   "metadata": {},
   "outputs": [],
   "source": [
    "A=np.array([[2,-1,0,0,0],[ -1,2,-1,0,0],[0,-1,2,-1,0],[0,0,-1,2,-1],[0,0,0,-1,2]],dtype=np.float32)"
   ]
  },
  {
   "cell_type": "code",
   "execution_count": 8,
   "id": "78eca560",
   "metadata": {},
   "outputs": [],
   "source": [
    "def forward_sweep(A,b):\n",
    "    A_prime=deepcopy(A)\n",
    "    b_prime=deepcopy(b)\n",
    "    A_prime[0]/=A[0,0]\n",
    "    b_prime[0]/=A[0,0]\n",
    "    for i in range(1,A.shape[0]):\n",
    "        b_prime[i]=(b_prime[i]-A_prime[i,i-1]/A_prime[i-1,i-1]*b_prime[i-1])/(A_prime[i,i]-A_prime[i,i-1]/A_prime[i-1,i-1]*A_prime[i-1,i])\n",
    "        \n",
    "        A_prime[i]=(A_prime[i]-A_prime[i,i-1]/A_prime[i-1,i-1]*A_prime[i-1])/(A_prime[i,i]-A_prime[i,i-1]/A_prime[i-1,i-1]*A_prime[i-1,i])\n",
    "    \n",
    "    return A_prime,b_prime"
   ]
  },
  {
   "cell_type": "code",
   "execution_count": 9,
   "id": "5753672e",
   "metadata": {},
   "outputs": [],
   "source": [
    "def solve_tridiagonal(A,b):\n",
    "    A_prime,b_prime=forward_sweep(A,b)\n",
    "    x=np.zeros_like(b)\n",
    "    x[-1]=b_prime[-1]\n",
    "    for i in reversed(range(b.shape[0]-1)):\n",
    "        x[i]=b_prime[i]-A_prime[i,i+1]*x[i+1]\n",
    "    return x"
   ]
  },
  {
   "cell_type": "code",
   "execution_count": 10,
   "id": "de5ae50e",
   "metadata": {},
   "outputs": [
    {
     "data": {
      "text/plain": [
       "(array([[ 2., -1.,  0.,  0.,  0.],\n",
       "        [-1.,  2., -1.,  0.,  0.],\n",
       "        [ 0., -1.,  2., -1.,  0.],\n",
       "        [ 0.,  0., -1.,  2., -1.],\n",
       "        [ 0.,  0.,  0., -1.,  2.]], dtype=float32),\n",
       " array([[1., 0., 0., 0., 0.],\n",
       "        [0., 1., 0., 0., 0.],\n",
       "        [0., 0., 1., 0., 0.],\n",
       "        [0., 0., 0., 1., 0.],\n",
       "        [0., 0., 0., 0., 1.]], dtype=float32),\n",
       " array([[0.8333334 , 0.66666675, 0.50000006, 0.33333334, 0.16666669],\n",
       "        [0.66666675, 1.3333335 , 1.0000001 , 0.6666667 , 0.33333337],\n",
       "        [0.5000001 , 1.0000002 , 1.5000001 , 1.        , 0.50000006],\n",
       "        [0.33333337, 0.66666675, 1.        , 1.3333333 , 0.6666667 ],\n",
       "        [0.16666667, 0.33333334, 0.5       , 0.6666666 , 0.8333333 ]],\n",
       "       dtype=float32),\n",
       " array([[ 1.0000000e+00,  0.0000000e+00,  0.0000000e+00,  0.0000000e+00,\n",
       "          0.0000000e+00],\n",
       "        [ 0.0000000e+00,  1.0000000e+00,  1.1920929e-07,  0.0000000e+00,\n",
       "          0.0000000e+00],\n",
       "        [ 1.1920929e-07,  2.3841858e-07,  1.0000000e+00,  0.0000000e+00,\n",
       "          5.9604645e-08],\n",
       "        [-4.4703484e-08, -8.9406967e-08, -1.1920929e-07,  9.9999988e-01,\n",
       "          0.0000000e+00],\n",
       "        [-2.9802322e-08, -5.9604645e-08,  0.0000000e+00,  0.0000000e+00,\n",
       "          9.9999994e-01]], dtype=float32))"
      ]
     },
     "execution_count": 10,
     "metadata": {},
     "output_type": "execute_result"
    }
   ],
   "source": [
    "I=np.eye(A.shape[0],dtype=np.float32)\n",
    "solution=solve_tridiagonal(A,I)\n",
    "A,I,solution,A@solution"
   ]
  }
 ],
 "metadata": {
  "kernelspec": {
   "display_name": "torch",
   "language": "python",
   "name": "python3"
  },
  "language_info": {
   "codemirror_mode": {
    "name": "ipython",
    "version": 3
   },
   "file_extension": ".py",
   "mimetype": "text/x-python",
   "name": "python",
   "nbconvert_exporter": "python",
   "pygments_lexer": "ipython3",
   "version": "3.13.7"
  }
 },
 "nbformat": 4,
 "nbformat_minor": 5
}
